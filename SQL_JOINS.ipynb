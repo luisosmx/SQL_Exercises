{
  "nbformat": 4,
  "nbformat_minor": 0,
  "metadata": {
    "colab": {
      "provenance": [],
      "authorship_tag": "ABX9TyNf7JyVgg16vFdQq75AKxJV",
      "include_colab_link": true
    },
    "kernelspec": {
      "name": "python3",
      "display_name": "Python 3"
    },
    "language_info": {
      "name": "python"
    }
  },
  "cells": [
    {
      "cell_type": "markdown",
      "metadata": {
        "id": "view-in-github",
        "colab_type": "text"
      },
      "source": [
        "<a href=\"https://colab.research.google.com/github/luisosmx/SQL_Exercises/blob/main/SQL_JOINS.ipynb\" target=\"_parent\"><img src=\"https://colab.research.google.com/assets/colab-badge.svg\" alt=\"Open In Colab\"/></a>"
      ]
    },
    {
      "cell_type": "markdown",
      "source": [
        "Los `JOINS` son una de las características más importantes de `SQL` y se utilizan para combinar registros de dos o más tablas. Hay varios tipos de `JOINS` en `SQL`, cada uno de los cuales combina registros de manera diferente.\n",
        "\n",
        "* `INNER JOIN`: Este tipo de `JOIN` combina los registros que tienen un valor correspondiente en ambas tablas. Solo se incluyen en el resultado aquellos registros que tienen un valor correspondiente en ambas tablas.\n",
        "\n",
        "* `LEFT JOIN`: Este tipo de `JOIN` combina los registros de la tabla de la izquierda con los de la tabla de la derecha. Si un registro de la tabla de la derecha no tiene un valor correspondiente en la tabla de la izquierda, se incluye un registro con valores nulos en la tabla de la derecha.\n",
        "\n",
        "* `RIGHT JOIN`: Este tipo de `JOIN` es similar al `LEFT JOIN`, pero combina los registros de la tabla de la derecha con los de la tabla de la izquierda. Si un registro de la tabla de la izquierda no tiene un valor correspondiente en la tabla de la derecha, se incluye un registro con valores nulos en la tabla de la izquierda.\n",
        "\n",
        "* `FULL OUTER JOIN`: Este tipo de `JOIN` combina los registros de ambas tablas, incluyendo los que tienen un valor correspondiente en ambas tablas y aquellos que solo tienen un valor correspondiente en una tabla.\n",
        "\n",
        "* `CROSS JOIN`: Este tipo de `JOIN` combina cada registro de la tabla de la izquierda con cada registro de la tabla de la derecha. El resultado es una combinación de todas las combinaciones posibles de registros de ambas tablas.\n",
        "\n",
        "Estos son los tipos más comunes de `JOINS` en `SQL`. Al usarlos correctamente, se puede combinar registros de varias tablas y obtener información más completa y útil.\n",
        "\n",
        "\n",
        "\n",
        "\n",
        "\n",
        "\n",
        "\n",
        "\n",
        "\n",
        "\n",
        "\n",
        "\n",
        "\n"
      ],
      "metadata": {
        "id": "oKaqfJV0ivB5"
      }
    },
    {
      "cell_type": "markdown",
      "source": [
        "Aquí hay algunos ejemplos de código que muestran cómo utilizar los diferentes tipos de `JOINS` en `SQL`:\n",
        "\n",
        "`INNER JOIN`:"
      ],
      "metadata": {
        "id": "IsEs2HqrkUfv"
      }
    },
    {
      "cell_type": "code",
      "source": [
        "SELECT *\n",
        "FROM table1\n",
        "INNER JOIN table2\n",
        "ON table1.column_name = table2.column_name;"
      ],
      "metadata": {
        "id": "EEe-7XO3kbZP"
      },
      "execution_count": null,
      "outputs": []
    },
    {
      "cell_type": "markdown",
      "source": [
        "`LEFT JOIN`:\n"
      ],
      "metadata": {
        "id": "REk2uyMikfZg"
      }
    },
    {
      "cell_type": "code",
      "source": [
        "SELECT *\n",
        "FROM table1\n",
        "LEFT JOIN table2\n",
        "ON table1.column_name = table2.column_name;"
      ],
      "metadata": {
        "id": "N4Af9vRCkkkW"
      },
      "execution_count": null,
      "outputs": []
    },
    {
      "cell_type": "markdown",
      "source": [
        "`RIGHT JOIN`:\n"
      ],
      "metadata": {
        "id": "mydx7UHMkqHX"
      }
    },
    {
      "cell_type": "code",
      "source": [
        "SELECT *\n",
        "FROM table1\n",
        "RIGHT JOIN table2\n",
        "ON table1.column_name = table2.column_name;"
      ],
      "metadata": {
        "id": "98JY6objku83"
      },
      "execution_count": null,
      "outputs": []
    },
    {
      "cell_type": "markdown",
      "source": [
        "`FULL OUTER JOIN`:\n"
      ],
      "metadata": {
        "id": "KIkLdv95kzBv"
      }
    },
    {
      "cell_type": "code",
      "source": [
        "SELECT *\n",
        "FROM table1\n",
        "FULL OUTER JOIN table2\n",
        "ON table1.column_name = table2.column_name;"
      ],
      "metadata": {
        "id": "Xmi9c2XZk4x_"
      },
      "execution_count": null,
      "outputs": []
    },
    {
      "cell_type": "markdown",
      "source": [
        "`CROSS JOIN`:\n"
      ],
      "metadata": {
        "id": "MFay9oG1k8GA"
      }
    },
    {
      "cell_type": "code",
      "source": [
        "SELECT *\n",
        "FROM table1\n",
        "CROSS JOIN table2;"
      ],
      "metadata": {
        "id": "xjFBYzUolBBf"
      },
      "execution_count": null,
      "outputs": []
    },
    {
      "cell_type": "markdown",
      "source": [
        "Estos son solo algunos ejemplos de código para ilustrar cómo utilizar los diferentes tipos de `JOINS` en `SQL`. Es importante notar que la sintaxis y la exactitud de los ejemplos pueden variar dependiendo del motor de base de datos que esté utilizando. Sin embargo, la lógica y el concepto detrás de cada `JOIN` son los mismos.\n",
        "\n",
        "\n",
        "\n"
      ],
      "metadata": {
        "id": "hUSlhhKYlEVw"
      }
    }
  ]
}