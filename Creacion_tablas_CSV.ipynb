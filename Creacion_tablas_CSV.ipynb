{
  "nbformat": 4,
  "nbformat_minor": 0,
  "metadata": {
    "colab": {
      "provenance": [],
      "authorship_tag": "ABX9TyNkp2vWU6Qb4RDjRs0XUbnG",
      "include_colab_link": true
    },
    "kernelspec": {
      "name": "python3",
      "display_name": "Python 3"
    },
    "language_info": {
      "name": "python"
    }
  },
  "cells": [
    {
      "cell_type": "markdown",
      "metadata": {
        "id": "view-in-github",
        "colab_type": "text"
      },
      "source": [
        "<a href=\"https://colab.research.google.com/github/luisosmx/SQL_Exercises/blob/main/Creacion_tablas_CSV.ipynb\" target=\"_parent\"><img src=\"https://colab.research.google.com/assets/colab-badge.svg\" alt=\"Open In Colab\"/></a>"
      ]
    },
    {
      "cell_type": "markdown",
      "source": [
        "Sumar los “Quantity”, “UnitPrice” de la tabla de user_purchase y agruparlos por CustomerID y InvoiceNo\n",
        "\n"
      ],
      "metadata": {
        "id": "sSA9nl1sxMnC"
      }
    },
    {
      "cell_type": "code",
      "execution_count": null,
      "metadata": {
        "id": "xtkCvxO2xBjq"
      },
      "outputs": [],
      "source": [
        "SELECT \n",
        "InvoiceNo, CustomerID,\n",
        "SUM(Quantity) as suma1,\n",
        "SUM(UnitPrice) as suma2,\n",
        "FROM `calm-dragon-378604.exercise_gcp.user_purchase` \n",
        "WHERE CustomerID IS NOT NULL\n",
        "GROUP BY 1, 2"
      ]
    },
    {
      "cell_type": "markdown",
      "source": [
        "https://drive.google.com/file/d/1MG2oXQmUyGSiowFvWsSlBipEPAUJKQLW/view"
      ],
      "metadata": {
        "id": "kbelZ467xiM4"
      }
    }
  ]
}