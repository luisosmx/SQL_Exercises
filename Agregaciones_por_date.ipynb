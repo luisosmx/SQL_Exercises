{
  "nbformat": 4,
  "nbformat_minor": 0,
  "metadata": {
    "colab": {
      "provenance": [],
      "authorship_tag": "ABX9TyOzyJ4oWsgYmQDLC9w3ouC5",
      "include_colab_link": true
    },
    "kernelspec": {
      "name": "python3",
      "display_name": "Python 3"
    },
    "language_info": {
      "name": "python"
    }
  },
  "cells": [
    {
      "cell_type": "markdown",
      "metadata": {
        "id": "view-in-github",
        "colab_type": "text"
      },
      "source": [
        "<a href=\"https://colab.research.google.com/github/luisosmx/SQL_Exercises/blob/main/Agregaciones_por_date.ipynb\" target=\"_parent\"><img src=\"https://colab.research.google.com/assets/colab-badge.svg\" alt=\"Open In Colab\"/></a>"
      ]
    },
    {
      "cell_type": "markdown",
      "source": [
        "Utilizando la tabla fire_brigade_service_calls:\n",
        "\n",
        "* contar cuantas llamadas se hicieron por año"
      ],
      "metadata": {
        "id": "6ZY8aAHKSNRj"
      }
    },
    {
      "cell_type": "code",
      "source": [
        "SELECT \n",
        "cal_year,\n",
        "COUNT(date_of_call) CALL_YEAR\n",
        "FROM `bigquery-public-data.london_fire_brigade.fire_brigade_service_calls` \n",
        "GROUP BY 1"
      ],
      "metadata": {
        "id": "41Tbv-_TSeVW"
      },
      "execution_count": null,
      "outputs": []
    },
    {
      "cell_type": "markdown",
      "source": [
        "https://drive.google.com/file/d/1OxgO_MMB_tflR8KZcjqc9jcquHbDP2Pv/view"
      ],
      "metadata": {
        "id": "SvWZmFn5Ueld"
      }
    },
    {
      "cell_type": "markdown",
      "source": [
        "* contar cuantas llamadas se hicieron por dia"
      ],
      "metadata": {
        "id": "JKIJAvEjUwrw"
      }
    },
    {
      "cell_type": "code",
      "source": [
        "SELECT \n",
        "date_of_call,\n",
        "COUNT(incident_number) CALL_FOR_DAY\n",
        "FROM `bigquery-public-data.london_fire_brigade.fire_brigade_service_calls` \n",
        "GROUP BY 1\n",
        "ORDER BY date_of_call "
      ],
      "metadata": {
        "id": "_CkHuLwmU8Ba"
      },
      "execution_count": null,
      "outputs": []
    },
    {
      "cell_type": "markdown",
      "source": [
        "https://drive.google.com/file/d/1kw75BcP4FkCORABemjcc_MpBiTtXXFtw/view\n",
        "\n",
        "* contar cuantas llamadas se hicieron por hora"
      ],
      "metadata": {
        "id": "4kKUN3X1VoUx"
      }
    },
    {
      "cell_type": "code",
      "source": [
        "SELECT \n",
        "hour_of_call,\n",
        "COUNT(incident_number) CALL_FOR_HOUR\n",
        "FROM `bigquery-public-data.london_fire_brigade.fire_brigade_service_calls` \n",
        "GROUP BY 1\n",
        "ORDER BY hour_of_call "
      ],
      "metadata": {
        "id": "UO_2nC5qWSH_"
      },
      "execution_count": null,
      "outputs": []
    },
    {
      "cell_type": "markdown",
      "source": [
        "https://drive.google.com/file/d/1dPjAdeEsAQgBJDxCA4YfLx8dXiwBLTAZ/view\n",
        "\n",
        "* contar cuantas llamadas se hicieron por dia y por incident_group"
      ],
      "metadata": {
        "id": "qPVhp8axWUzS"
      }
    },
    {
      "cell_type": "code",
      "source": [
        "SELECT \n",
        "date_of_call, \n",
        "incident_group,\n",
        "COUNT (incident_number)\n",
        "FROM `bigquery-public-data.london_fire_brigade.fire_brigade_service_calls` \n",
        "GROUP BY 1, 2\n",
        "ORDER BY date_of_call "
      ],
      "metadata": {
        "id": "TVooBBTWWorr"
      },
      "execution_count": null,
      "outputs": []
    },
    {
      "cell_type": "markdown",
      "source": [
        "https://drive.google.com/file/d/1MG2oXQmUyGSiowFvWsSlBipEPAUJKQLW/view\n",
        "\n",
        "* contar cuantas llamadas se hicieron por dia y por stop_coe_desc"
      ],
      "metadata": {
        "id": "X5Kt08LXWxja"
      }
    },
    {
      "cell_type": "code",
      "source": [
        "SELECT \n",
        "date_of_call, \n",
        "stop_code_description,\n",
        "COUNT (incident_number) CALL_FOR_DAY_AND_STOP_CODE\n",
        "FROM `bigquery-public-data.london_fire_brigade.fire_brigade_service_calls` \n",
        "GROUP BY 1, 2\n",
        "ORDER BY date_of_call "
      ],
      "metadata": {
        "id": "KKWClZDsXA75"
      },
      "execution_count": null,
      "outputs": []
    },
    {
      "cell_type": "markdown",
      "source": [
        "https://drive.google.com/file/d/11_yMzL6Ev77c4ua4vyFbdwWLFpcy0Maj/view\n"
      ],
      "metadata": {
        "id": "DHzKOKB0XijZ"
      }
    }
  ]
}