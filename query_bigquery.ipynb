{
  "nbformat": 4,
  "nbformat_minor": 0,
  "metadata": {
    "colab": {
      "provenance": [],
      "authorship_tag": "ABX9TyP1pRfLbN9JTvSqNbGlFBNx",
      "include_colab_link": true
    },
    "kernelspec": {
      "name": "python3",
      "display_name": "Python 3"
    },
    "language_info": {
      "name": "python"
    }
  },
  "cells": [
    {
      "cell_type": "markdown",
      "metadata": {
        "id": "view-in-github",
        "colab_type": "text"
      },
      "source": [
        "<a href=\"https://colab.research.google.com/github/luisosmx/SQL_Exercises/blob/main/query_bigquery.ipynb\" target=\"_parent\"><img src=\"https://colab.research.google.com/assets/colab-badge.svg\" alt=\"Open In Colab\"/></a>"
      ]
    },
    {
      "cell_type": "code",
      "execution_count": null,
      "metadata": {
        "id": "fK85aDnJ0fX7"
      },
      "outputs": [],
      "source": [
        "WITH UnnestedEvents AS (\n",
        "  SELECT\n",
        "    id,\n",
        "    status,\n",
        "    created,\n",
        "    updated,\n",
        "    summary,\n",
        "    attendees,\n",
        "    creator,\n",
        "    start,\n",
        "  FROM\n",
        "    `imagine-growth-institute.google_calendar_api.calendar_events`\n",
        "),\n",
        "\n",
        "RankedEvents AS (\n",
        "  SELECT\n",
        "    id,\n",
        "    status,\n",
        "    created,\n",
        "    updated,\n",
        "    summary,\n",
        "    creator,\n",
        "    start,\n",
        "    attendee.email,\n",
        "    attendee.additionalGuests,\n",
        "    attendee.comment,\n",
        "    attendee.displayName,\n",
        "    attendee.organizer AS attendee_organizer,\n",
        "    attendee.resource,\n",
        "    attendee.responseStatus,\n",
        "    attendee.self,\n",
        "    ROW_NUMBER() OVER (PARTITION BY attendee.email ORDER BY updated DESC) AS row_num\n",
        "  FROM UnnestedEvents,\n",
        "  UNNEST(attendees) AS attendee\n",
        "),\n",
        "\n",
        "recent_event AS (\n",
        "  SELECT\n",
        "  id,\n",
        "  status,\n",
        "  created,\n",
        "  updated,\n",
        "  summary,\n",
        "  creator,\n",
        "  start,\n",
        "  IFNULL(email, 'None') AS email,\n",
        "  additionalGuests,\n",
        "  comment,\n",
        "  displayName,\n",
        "  attendee_organizer,\n",
        "  resource,\n",
        "  responseStatus,\n",
        "  self\n",
        "FROM RankedEvents\n",
        "WHERE row_num = 1\n",
        "),\n",
        "\n",
        "join_list AS (\n",
        "  SELECT\n",
        "  c.summary AS calendar_event_summary,\n",
        "  c.creator AS calendar_event_creator,\n",
        "  c.start AS calendar_event_star,\n",
        "\n",
        "  e.id AS expandi_raw_data_id,\n",
        "  CONCAT(e.first_name, ' ', e.last_name) AS full_name,\n",
        "  e.email AS expandi_raw_data_email,\n",
        "  e.company_name AS expandi_raw_data_company_name\n",
        "\n",
        "FROM\n",
        "  recent_event c\n",
        "RIGHT JOIN\n",
        "  `imagine-growth-institute.google_calendar_api.expandi_raw_data` e\n",
        "ON\n",
        "  c.email = e.email\n",
        ")\n",
        "\n",
        "SELECT\n",
        "COUNT(full_name),\n",
        "calendar_event_summary,\n",
        "EXTRACT(MONTH FROM TIMESTAMP(calendar_event_star)) AS month_event\n",
        "FROM join_list\n",
        "GROUP BY calendar_event_summary, month_event\n",
        "#WHERE validated_email = 'None'\n",
        "\n"
      ]
    }
  ]
}