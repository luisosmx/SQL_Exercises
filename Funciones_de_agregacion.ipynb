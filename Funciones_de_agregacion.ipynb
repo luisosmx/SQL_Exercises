{
  "nbformat": 4,
  "nbformat_minor": 0,
  "metadata": {
    "colab": {
      "provenance": [],
      "authorship_tag": "ABX9TyN+Kmer+74lRJqFrMsWI3Bt",
      "include_colab_link": true
    },
    "kernelspec": {
      "name": "python3",
      "display_name": "Python 3"
    },
    "language_info": {
      "name": "python"
    }
  },
  "cells": [
    {
      "cell_type": "markdown",
      "metadata": {
        "id": "view-in-github",
        "colab_type": "text"
      },
      "source": [
        "<a href=\"https://colab.research.google.com/github/luisosmx/SQL_Exercises/blob/main/Funciones_de_agregacion.ipynb\" target=\"_parent\"><img src=\"https://colab.research.google.com/assets/colab-badge.svg\" alt=\"Open In Colab\"/></a>"
      ]
    },
    {
      "cell_type": "markdown",
      "source": [
        "* Utilizando la tabla de bigquery que contiene camas por estado/pais, ubtener la suma de camas, el promedio (AVG),  maximo numero de camas (MAX), minimo numero de camas (MIN), cantidad de registros (COUNT) por estado,"
      ],
      "metadata": {
        "id": "-RWxcIZiaelO"
      }
    },
    {
      "cell_type": "code",
      "execution_count": null,
      "metadata": {
        "id": "nCZgsrHoaVDH"
      },
      "outputs": [],
      "source": [
        "SELECT\n",
        "state_name,\n",
        "cbsa_code,\n",
        "county_name,\n",
        "sum(total_hospital_beds) sum_beds,\n",
        "AVG(total_hospital_beds) average_beds,\n",
        "MAX(total_hospital_beds) max_beds,\n",
        "MIN(total_hospital_beds) min_beds,\n",
        "COUNT(total_hospital_beds) count_beds, \n",
        "FROM `bigquery-public-data.covid19_aha.hospital_beds` \n",
        "\n",
        "GROUP BY 1, 2, 3\n",
        "--HAVING  COUNT(total_hospital_beds) = 2\n",
        "ORDER BY count_beds "
      ]
    },
    {
      "cell_type": "markdown",
      "source": [],
      "metadata": {
        "id": "NSq520q7gakH"
      }
    }
  ]
}